{
 "cells": [
  {
   "cell_type": "code",
   "execution_count": 72,
   "metadata": {
    "collapsed": true
   },
   "outputs": [],
   "source": [
    "import pandas as pd\n",
    "from sklearn.pipeline import Pipeline\n",
    "from sklearn.feature_extraction.text import CountVectorizer\n",
    "from sklearn.naive_bayes import MultinomialNB\n",
    "from sklearn.model_selection import StratifiedKFold\n",
    "from sklearn import metrics\n",
    "from sklearn.base import TransformerMixin\n",
    "import spacy\n",
    "from multiprocessing import cpu_count\n",
    "from sklearn.linear_model import LogisticRegression"
   ]
  },
  {
   "cell_type": "markdown",
   "metadata": {},
   "source": [
    "Next we'll declare important constants, per the python style guide, PEP8. This isn't strictly necessary, but makes for cleaner code."
   ]
  },
  {
   "cell_type": "code",
   "execution_count": 73,
   "metadata": {
    "collapsed": true
   },
   "outputs": [],
   "source": [
    "TEXT_COLUMN = 'text'\n",
    "Y_COLUMN = 'author'"
   ]
  },
  {
   "cell_type": "markdown",
   "metadata": {},
   "source": [
    "We're going to run a couple of different models with different sets of features, so it's worth taking a moment to set up our model evaluation process as its own function.\n",
    "\n",
    "For evaulation, we need to do several things:\n",
    "\n",
    "Split the input dataframe into the a feature dataframe and a label dataframe (X and Y).\n",
    "Conduct feature engineering.\n",
    "Train the model.\n",
    "Perform cross validation.\n",
    "Report the relevant score. In this case, we'll use log loss to match the competition's evaluation.\n",
    "Integrating Scikit-learn pipelines into our evaluation makes this straightforward to repeat with different models and features."
   ]
  },
  {
   "cell_type": "code",
   "execution_count": 74,
   "metadata": {
    "collapsed": true
   },
   "outputs": [],
   "source": [
    "def test_pipeline(df, nlp_pipeline, pipeline_name=''):\n",
    "    y = df[Y_COLUMN].copy()\n",
    "    X = pd.Series(df[TEXT_COLUMN])\n",
    "    # If you've done EDA, you may have noticed that the author classes aren't quite balanced.\n",
    "    # We'll use stratified splits just to be on the safe side.\n",
    "    rskf = StratifiedKFold(n_splits=5, random_state=1)\n",
    "    losses = []\n",
    "    for train_index, test_index in rskf.split(X, y):\n",
    "        X_train, X_test = X[train_index], X[test_index]\n",
    "        y_train, y_test = y[train_index], y[test_index]\n",
    "        nlp_pipeline.fit(X_train, y_train)\n",
    "        losses.append(metrics.log_loss(y_test, nlp_pipeline.predict_proba(X_test)))\n",
    "    print(f'{pipeline_name} kfolds log losses: {str([str(round(x, 3)) for x in sorted(losses)])}')\n",
    "    print(f'{pipeline_name} mean log loss: {round(pd.np.mean(losses), 3)}')"
   ]
  },
  {
   "cell_type": "markdown",
   "metadata": {},
   "source": [
    "We're ready to load the data and run our first model. We'll start with the exact same model, a naive bayes classifer on unigram probabilities, as in Rachael's tutorial. Using sklearn instead of implementing everything ourselves will make this both easier to code up and faster to run.\n",
    "\n",
    "The Id column doesn't actually help us (or if it does, isn't really in the spirit of an NLP competition), so we'll skip over it."
   ]
  },
  {
   "cell_type": "code",
   "execution_count": 75,
   "metadata": {},
   "outputs": [
    {
     "data": {
      "text/html": [
       "<div>\n",
       "<table border=\"1\" class=\"dataframe\">\n",
       "  <thead>\n",
       "    <tr style=\"text-align: right;\">\n",
       "      <th></th>\n",
       "      <th>text</th>\n",
       "      <th>author</th>\n",
       "    </tr>\n",
       "  </thead>\n",
       "  <tbody>\n",
       "    <tr>\n",
       "      <th>0</th>\n",
       "      <td>This process, however, afforded me no means of...</td>\n",
       "      <td>EAP</td>\n",
       "    </tr>\n",
       "    <tr>\n",
       "      <th>1</th>\n",
       "      <td>It never once occurred to me that the fumbling...</td>\n",
       "      <td>HPL</td>\n",
       "    </tr>\n",
       "    <tr>\n",
       "      <th>2</th>\n",
       "      <td>In his left hand was a gold snuff box, from wh...</td>\n",
       "      <td>EAP</td>\n",
       "    </tr>\n",
       "    <tr>\n",
       "      <th>3</th>\n",
       "      <td>How lovely is spring As we looked from Windsor...</td>\n",
       "      <td>MWS</td>\n",
       "    </tr>\n",
       "    <tr>\n",
       "      <th>4</th>\n",
       "      <td>Finding nothing else, not even gold, the Super...</td>\n",
       "      <td>HPL</td>\n",
       "    </tr>\n",
       "  </tbody>\n",
       "</table>\n",
       "</div>"
      ],
      "text/plain": [
       "                                                text author\n",
       "0  This process, however, afforded me no means of...    EAP\n",
       "1  It never once occurred to me that the fumbling...    HPL\n",
       "2  In his left hand was a gold snuff box, from wh...    EAP\n",
       "3  How lovely is spring As we looked from Windsor...    MWS\n",
       "4  Finding nothing else, not even gold, the Super...    HPL"
      ]
     },
     "execution_count": 75,
     "metadata": {},
     "output_type": "execute_result"
    }
   ],
   "source": [
    "train_df = pd.read_csv(\"./spooky_author/train.csv\", usecols=[TEXT_COLUMN, Y_COLUMN])\n",
    "train_df.head()"
   ]
  },
  {
   "cell_type": "code",
   "execution_count": 76,
   "metadata": {},
   "outputs": [
    {
     "name": "stdout",
     "output_type": "stream",
     "text": [
      "Unigrams only kfolds log losses: ['0.455', '0.46', '0.47', '0.473', '0.474']\n",
      "Unigrams only mean log loss: 0.466\n"
     ]
    }
   ],
   "source": [
    "unigram_pipe = Pipeline([\n",
    "    ('cv', CountVectorizer()),\n",
    "    ('mnb', MultinomialNB())\n",
    "                        ])\n",
    "test_pipeline(train_df, unigram_pipe, \"Unigrams only\")"
   ]
  },
  {
   "cell_type": "markdown",
   "metadata": {},
   "source": [
    "Since we want to turn this into a nice clean pipeline, we'll do all of our feature engineering using custom transformers. This first transformer takes the unigram pipeline that we built above and returns the predicted probabilities as features. We could use the raw CountVectorizer output and let our final model deal with the unigram features directly, but that would create two issues:\n",
    "\n",
    "CountVectorizer returns a sparse format that is a pain to integrate with the rest of our pipeline.\n",
    "Using CountVectorizer and MultinomialNB allows us to skip converting the word counts to probabilities, and to skip ensuring that probabilities are never exactly zero. See the alpha parameter in the MultinomialNB documentation? As long as we use the default input of one, the model will peform this task (a Laplace transform) for us."
   ]
  },
  {
   "cell_type": "code",
   "execution_count": 77,
   "metadata": {},
   "outputs": [],
   "source": [
    "class UnigramPredictions(TransformerMixin):\n",
    "    def __init__(self):\n",
    "        self.unigram_mnb = Pipeline([('text', CountVectorizer()), ('mnb', MultinomialNB())])\n",
    "\n",
    "    def fit(self, x, y=None):\n",
    "        # Every custom transformer requires a fit method. In this case, we want to train\n",
    "        # the naive bayes model.\n",
    "        self.unigram_mnb.fit(x, y)\n",
    "        return self\n",
    "    \n",
    "    def add_unigram_predictions(self, text_series):\n",
    "        # Resetting the index ensures the indexes equal the row numbers.\n",
    "        # This guarantees nothing will be misaligned when we merge the dataframes further down.\n",
    "        df = pd.DataFrame(text_series.reset_index(drop=True))\n",
    "        # Make unigram predicted probabilities and label them with the prediction class, aka \n",
    "        # the author.\n",
    "        unigram_predictions = pd.DataFrame(\n",
    "            self.unigram_mnb.predict_proba(text_series),\n",
    "            columns=['naive_bayes_pred_' + x for x in self.unigram_mnb.classes_]\n",
    "                                           )\n",
    "        # We only need 2 out of 3 columns, as the last is always one minus the \n",
    "        # sum of the other two. In some cases, that colinearity can actually be problematic.\n",
    "        del unigram_predictions[unigram_predictions.columns[0]]\n",
    "        df = df.merge(unigram_predictions, left_index=True, right_index=True)\n",
    "        return df\n",
    "\n",
    "    def transform(self, text_series):\n",
    "        # Every custom transformer also requires a transform method. This time we just want to \n",
    "        # provide the unigram predictions.\n",
    "        return self.add_unigram_predictions(text_series)"
   ]
  },
  {
   "cell_type": "markdown",
   "metadata": {},
   "source": [
    "It's time to start adding new features with spaCy. We'll flag the main parts of speech used in each sentence, average word length, and overall sentence length.\n",
    "\n",
    "The single slowest step of working with spaCy is often loading the model in the first place, so we'll ensure this step is only done once. By default, spaCy will tag each word, build a dependency model, and perform entity recognition. We only need the part of speech tags, so we'll restrict the pipeline accordingly. In tests on my local machine, this sped up the parse by 5-10x."
   ]
  },
  {
   "cell_type": "code",
   "execution_count": 78,
   "metadata": {},
   "outputs": [],
   "source": [
    "NLP = spacy.load('en', disable=['parser', 'ner'])"
   ]
  },
  {
   "cell_type": "code",
   "execution_count": 79,
   "metadata": {
    "collapsed": true
   },
   "outputs": [],
   "source": [
    "class PartOfSpeechFeatures(TransformerMixin):\n",
    "    def __init__(self):\n",
    "        self.NLP = NLP\n",
    "        # Store the number of cpus available for when we do multithreading later on\n",
    "        self.num_cores = cpu_count()\n",
    "\n",
    "    def part_of_speechiness(self, pos_counts, part_of_speech):\n",
    "        if eval(part_of_speech) in pos_counts:\n",
    "            return pos_counts[eval(part_of_speech).numerator]\n",
    "        return 0\n",
    "\n",
    "    def add_pos_features(self, df):\n",
    "        text_series = df[TEXT_COLUMN]\n",
    "        \"\"\"\n",
    "        Parse each sentence with part of speech tags. \n",
    "        Using spaCy's pipe method gives us multi-threading 'for free'. \n",
    "        This is important as this is by far the single slowest step in the pipeline.\n",
    "        If you want to test this for yourself, you can use:\n",
    "            from time import time \n",
    "            start_time = time()\n",
    "            (some code)\n",
    "            print(f'Code took {time() - start_time} seconds')\n",
    "        For faster functions the timeit module would be standard... but that's\n",
    "        meant for situations where you can wait for the function to be called 1,000 times.\n",
    "        \"\"\"\n",
    "        df['doc'] = [i for i in self.NLP.pipe(text_series.values, n_threads=self.num_cores)]\n",
    "        df['pos_counts'] = df['doc'].apply(lambda x: x.count_by(attrs.POS))\n",
    "        # We get a very minor speed boost here by using pandas built in string methods\n",
    "        # instead of df['doc'].apply(len). String processing is generally slow in python,\n",
    "        # use the pandas string methods directly where possible.\n",
    "        df['sentence_length'] = df['doc'].str.len()\n",
    "        # This next step generates the fraction of each sentence that is composed of a \n",
    "        # specific part of speech.\n",
    "        # There's admittedly some voodoo in this step. Math can be more highly optimized in python\n",
    "        # than string processing, so spaCy really stores the parts of speech as numbers. If you\n",
    "        # try >>> VERB in the console you'll get 98 as the result.\n",
    "        # The monkey business with eval() here allows us to generate several named columns\n",
    "        # without specifying in advance that {'VERB': 98}.\n",
    "        for part_of_speech in ['NOUN', 'VERB', 'ADJ', 'ADV']:\n",
    "            df[f'{part_of_speech.lower()}iness'] = df['pos_counts'].apply(\n",
    "                lambda x: self.part_of_speechiness(x, part_of_speech))\n",
    "            df[f'{part_of_speech.lower()}iness'] /= df['sentence_length']\n",
    "        df['avg_word_length'] = (df['doc'].apply(\n",
    "            lambda x: sum([len(word) for word in x])) / df['sentence_length'])\n",
    "        return df\n",
    "\n",
    "    def fit(self, x, y=None):\n",
    "        # since this transformer doesn't train a model, we don't actually need to do anything here.\n",
    "        return self\n",
    "\n",
    "    def transform(self, df):\n",
    "        return self.add_pos_features(df.copy())"
   ]
  },
  {
   "cell_type": "markdown",
   "metadata": {},
   "source": [
    "Finally, sklearn models generally don't accept strings as inputs, so we'll need to drop all string columns. This includes the original 'text' column that we read from the csv!"
   ]
  },
  {
   "cell_type": "code",
   "execution_count": null,
   "metadata": {
    "collapsed": true
   },
   "outputs": [],
   "source": [
    "class DropStringColumns(TransformerMixin):\n",
    "    # You may have noticed something odd about this class: there's no __init__!\n",
    "    # It's actually inherited from TransformerMixin, so it doesn't need to be declared again.\n",
    "    def fit(self, x, y=None):\n",
    "        return self\n",
    "\n",
    "    def transform(self, df):\n",
    "        for col, dtype in zip(df.columns, df.dtypes):\n",
    "            if dtype == object:\n",
    "                del df[col]\n",
    "        return df"
   ]
  },
  {
   "cell_type": "markdown",
   "metadata": {},
   "source": [
    "If you want to experiment with different combinations of features, try writing your own transformers and adding them to the pipeline.\n",
    "\n",
    "If you're running this at home, expect this next step to take ~30 seconds or so as we're retraining the model several times during the cross validation."
   ]
  },
  {
   "cell_type": "code",
   "execution_count": null,
   "metadata": {},
   "outputs": [],
   "source": [
    "logit_all_features_pipe = Pipeline([\n",
    "        ('uni', UnigramPredictions()),\n",
    "        ('nlp', PartOfSpeechFeatures()),\n",
    "        ('clean', DropStringColumns()), \n",
    "        ('clf', LogisticRegression())\n",
    "                                     ])\n",
    "test_pipeline(train_df, logit_all_features_pipe)"
   ]
  },
  {
   "cell_type": "markdown",
   "metadata": {},
   "source": [
    "This pipeline is better... but only just barely. I'll leave it as an exercise for you to add better features and more powerful models. However, if we did want to submit this, we'd just feed logit_all_features_pipe into the generate_submission_df function."
   ]
  },
  {
   "cell_type": "code",
   "execution_count": 84,
   "metadata": {
    "collapsed": true
   },
   "outputs": [],
   "source": [
    "def generate_submission_df(trained_prediction_pipeline, test_df):\n",
    "    predictions = pd.DataFrame(\n",
    "        trained_prediction_pipeline.predict_proba(test_df.text),\n",
    "        columns=trained_prediction_pipeline.classes_\n",
    "                               )\n",
    "    predictions['id'] = test_df['id']\n",
    "    predictions.to_csv(\"submission.csv\", index=False)\n",
    "    return predictions"
   ]
  },
  {
   "cell_type": "code",
   "execution_count": null,
   "metadata": {
    "collapsed": true
   },
   "outputs": [],
   "source": []
  }
 ],
 "metadata": {
  "kernelspec": {
   "display_name": "Python 3",
   "language": "python",
   "name": "python3"
  },
  "language_info": {
   "codemirror_mode": {
    "name": "ipython",
    "version": 3
   },
   "file_extension": ".py",
   "mimetype": "text/x-python",
   "name": "python",
   "nbconvert_exporter": "python",
   "pygments_lexer": "ipython3",
   "version": "3.6.0"
  }
 },
 "nbformat": 4,
 "nbformat_minor": 2
}
